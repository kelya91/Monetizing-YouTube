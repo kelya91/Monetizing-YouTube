{
 "cells": [
  {
   "cell_type": "code",
   "execution_count": 1,
   "metadata": {},
   "outputs": [],
   "source": [
    "'''\n",
    "IMPORT ALL DEPENDENCIES\n",
    "--------------------------\n",
    "Beautiful Soup: Parse HTML objects from web pages\n",
    "Pymongo: Read and write to MongoDB\n",
    "Splinter: Automating browser actions to interact with HTML elements\n",
    "DateTime: Convert dates\n",
    "re: Hack to remove 'rd', 'th', 'st' from date strings\n",
    "'''\n",
    "\n",
    "from bs4 import BeautifulSoup as bs\n",
    "import pandas as pd\n",
    "import pymongo\n",
    "from pprint import pprint\n",
    "import requests\n",
    "from splinter import Browser\n",
    "from datetime import datetime\n",
    "from dateutil.parser import parse\n",
    "import time\n",
    "import re\n",
    "import lxml"
   ]
  },
  {
   "cell_type": "code",
   "execution_count": 2,
   "metadata": {},
   "outputs": [],
   "source": [
    "# Initialize PyMongo to work with MongoDBs\n",
    "conn = 'mongodb://localhost:27017'\n",
    "client = pymongo.MongoClient(conn)"
   ]
  },
  {
   "cell_type": "code",
   "execution_count": 3,
   "metadata": {},
   "outputs": [],
   "source": [
    "# Define database and collection\n",
    "db = client.youtube_stats\n",
    "summary_stats = db.summary_stats\n",
    "views_stats=db.views_stats\n",
    "ranking_stats=db.ranking_stats\n",
    "earning_stats=db.earning_stats\n",
    "timeline_stats=db.timeline_stats"
   ]
  },
  {
   "cell_type": "code",
   "execution_count": 4,
   "metadata": {},
   "outputs": [],
   "source": [
    "executable_path = {'executable_path': 'chromedriver.exe'}\n",
    "browser = Browser('chrome', **executable_path, headless=False)\n",
    "url = 'https://socialblade.com/youtube/top/5000'\n",
    "browser.visit(url)"
   ]
  },
  {
   "cell_type": "code",
   "execution_count": 5,
   "metadata": {},
   "outputs": [],
   "source": [
    "html = browser.html\n",
    "soup = bs(html, 'lxml')\n",
    "\n",
    "summary = []\n",
    "ranking = []\n",
    "viewcount = []\n",
    "earnings = []\n",
    "timeline = []\n",
    "\n",
    "def solve(s):                                             \n",
    "    return re.sub(r'(\\d)(st|nd|rd|th)', r'\\1', s)\n",
    "\n",
    "youtuber = soup.find_all('div', style='float: right; width: 900px;')\n",
    "for i in youtuber:\n",
    "    try:\n",
    "        link = i.find_all('a')[1:2000]\n",
    "\n",
    "        for i in link:\n",
    "            try:\n",
    "                youtuber_link = i['href']\n",
    "                browser.click_link_by_href(youtuber_link)\n",
    "                html = browser.html\n",
    "                soup = bs(html, 'lxml')\n",
    "\n",
    "                if 'YouTube search results found' in soup.text or 'YouTube search result found' in soup.text:\n",
    "                    browser.back()\n",
    "                else:\n",
    "                    name = soup.find_all('h1', style='float: left; font-size: 1.4em; font-weight: bold; color:#333; margin: 0px; padding: 0px; margin-right: 5px;')[0].text\n",
    "                    primary_stats = soup.find_all('div', id='YouTubeUserTopInfoBlock')\n",
    "\n",
    "                    for i in primary_stats:\n",
    "                        uploads = i.find_all('span', style='font-weight: bold;')[0].text.replace(',', '')\n",
    "                        subscribers = i.find_all('span', style='font-weight: bold;')[1].text.replace(',', '')\n",
    "                        views = i.find_all('span', style='font-weight: bold;')[2].text.replace(',', '')\n",
    "                        category = i.find_all('span', style='font-weight: bold;')[4].text.replace(',', '')\n",
    "                        created = i.find_all('span', style='font-weight: bold;')[5].text.replace(',', '')\n",
    "                        if created == '--':\n",
    "                            created = '1900-01-01'\n",
    "                        else:\n",
    "                            created = datetime.strptime(solve(created), \"%b %d %Y\").strftime('%Y-%m-%d')\n",
    "\n",
    "                        summary.append({'name': name,\n",
    "                                        'uploads': uploads,\n",
    "                                        'subscribers': subscribers,\n",
    "                                        'views': views,\n",
    "                                        'category': category,\n",
    "                                        'created': created})\n",
    "\n",
    "                    ranking_stats = soup.find_all('div', style='height: 100px; width: 860px; border-bottom: 1px solid #eee;')\n",
    "                    for i in ranking_stats:\n",
    "                        grade = i.find_all('p')[0].text\n",
    "                        subscriber_rank = i.find_all('p')[2].text[:-2].replace(',', '')\n",
    "                        view_rank = i.find_all('p')[4].text[:-2].replace(',', '')\n",
    "                        socialblade_rank = i.find_all('p')[6].text[:-2].replace(',', '')\n",
    "\n",
    "                        ranking.append({'name': name,\n",
    "                                        'category': category,\n",
    "                                        'grade': grade,\n",
    "                                        'subscriber_rank': subscriber_rank,\n",
    "                                        'view_rank': view_rank,\n",
    "                                        'socialblade_rank': socialblade_rank})\n",
    "\n",
    "                    views_stats = soup.find_all('div', style='height: 70px; width: 860px; border-bottom: 1px solid #eee;')\n",
    "                    for i in views_stats:\n",
    "                        views_last30d_count = i.find_all('span', id='afd-header-views-30d')[0].text.replace(',', '').replace('\\n', '')\n",
    "                        subs_last30d_count = i.find_all('span', id='afd-header-subs-30d')[0].text.replace(',', '').replace('\\n', '')\n",
    "\n",
    "                        viewcount.append({'name': name,\n",
    "                                          'category': category,\n",
    "                                          'views_last30d_count': views_last30d_count,\n",
    "                                          'subs_last30d_count': subs_last30d_count})\n",
    "\n",
    "                    earnings_stats = soup.find_all('div', style='height: 80px; width: 860px;')\n",
    "                    for i in earnings_stats:\n",
    "                        min_monthly_earnings = i.find_all('p', style='font-size: 1.4em; color:#41a200; font-weight: 600; padding-top: 20px;')[0].text.split('-')[0].replace('$', '').replace('.', '').replace('K', '00').replace('M', '00000').strip()\n",
    "                        max_monthly_earnings = i.find_all('p', style='font-size: 1.4em; color:#41a200; font-weight: 600; padding-top: 20px;')[0].text.split('-')[1].replace('$', '').replace('.', '').replace('K', '00').replace('M', '00000').strip()\n",
    "                        min_annual_earnings = i.find_all('p', style='font-size: 1.4em; color:#41a200; font-weight: 600; padding-top: 20px;')[1].text.split('-')[0].replace('$', '').replace('.', '').replace('K', '00').replace('M', '00000').strip()\n",
    "                        max_annual_earnings = i.find_all('p', style='font-size: 1.4em; color:#41a200; font-weight: 600; padding-top: 20px;')[1].text.split('-')[1].replace('$', '').replace('.', '').replace('K', '00').replace('M', '00000').strip()\n",
    "\n",
    "                        earnings.append({'name': name,\n",
    "                                         'category': category,\n",
    "                                         'min_monthly_earnings': min_monthly_earnings,\n",
    "                                         'max_monthly_earnings': max_monthly_earnings,\n",
    "                                         'min_annual_earnings': min_annual_earnings,\n",
    "                                         'max_annual_earnings': max_annual_earnings})\n",
    "\n",
    "                    timeline_statsA = soup.find_all('div', style='width: 860px; height: 32px; line-height: 32px; background: #f8f8f8;; padding: 0px 20px; color:#444; font-size: 9pt; border-bottom: 1px solid #eee;')\n",
    "                    for i in timeline_statsA:\n",
    "                        timeline_dateA = i.find_all('div', style='float: left; width: 95px;')[0].text.replace('\\n', '')\n",
    "                        timeline_subsA = i.find_all('div', style='width: 140px; float: left;')[0].text.replace('\\n', '').replace(',', '')\n",
    "                        timeline_viewsA = i.find_all('div', style='width: 140px; float: left;')[1].text.replace('\\n', '').replace(',', '')\n",
    "\n",
    "                        timeline_min_earningsA = i.find_all('div', style='float: left; width: 165px; height: 30px;')[0].text.split('-')[0].replace('$', '').strip()\n",
    "                        if '.' in timeline_min_earningsA:\n",
    "                            timeline_min_earningsA = timeline_min_earningsA.replace('.', '').replace('K', '00').replace('M', '00000')\n",
    "                        else:\n",
    "                            timeline_min_earningsA = timeline_min_earningsA.replace('K', '000').replace('M', '000000')\n",
    "\n",
    "                        timeline_max_earningsA = i.find_all('div', style='float: left; width: 165px; height: 30px;')[0].text.split('-')[1].replace('$', '').strip()\n",
    "                        if '.' in timeline_max_earningsA:\n",
    "                            timeline_max_earningsA = timeline_max_earningsA.replace('.', '').replace('K', '00').replace('M', '00000')\n",
    "                        else:\n",
    "                            timeline_max_earningsA = timeline_max_earningsA.replace('K', '000').replace('M', '000000')\n",
    "\n",
    "                        timeline.append({'name': name,\n",
    "                                         'category': category,\n",
    "                                         'date': timeline_dateA,\n",
    "                                         'subscribers': timeline_subsA,\n",
    "                                         'views': timeline_viewsA,\n",
    "                                         'min_earnings': timeline_min_earningsA,\n",
    "                                         'max_earnings': timeline_max_earningsA})\n",
    "\n",
    "                    timeline_statsB = soup.find_all('div', style='width: 860px; height: 32px; line-height: 32px; background: #fcfcfc; padding: 0px 20px; color:#444; font-size: 9pt; border-bottom: 1px solid #eee;')\n",
    "                    for i in timeline_statsB:\n",
    "                        timeline_dateB = i.find_all('div', style='float: left; width: 95px;')[0].text.replace('\\n', '').strip()\n",
    "                        timeline_subsB = i.find_all('div', style='width: 140px; float: left;')[0].text.replace(',', '').replace('\\n', '').replace(' LIVE', '').strip()\n",
    "                        timeline_viewsB = i.find_all('div', style='width: 140px; float: left;')[1].text.replace('\\n', '').replace(',', '').strip()\n",
    "\n",
    "                        timeline_min_earningsB = i.find_all('div', style='float: left; width: 165px; height: 30px;')[0].text.split('-')[0].replace('$', '').strip()\n",
    "                        if '.' in timeline_min_earningsB:\n",
    "                            timeline_min_earningsB = timeline_min_earningsB.replace('.', '').replace('K', '00').replace('M', '00000')\n",
    "                        else:\n",
    "                            timeline_min_earningsB = timeline_min_earningsB.replace('K', '000').replace('M', '000000')\n",
    "\n",
    "                        timeline_max_earningsB = i.find_all('div', style='float: left; width: 165px; height: 30px;')[0].text.split('-')[1].replace('$', '').strip()\n",
    "                        if '.' in timeline_max_earningsB:\n",
    "                            timeline_max_earningsB = timeline_max_earningsB.replace('.', '').replace('K', '00').replace('M', '00000')\n",
    "                        else:\n",
    "                            timeline_max_earningsB = timeline_max_earningsB.replace('K', '000').replace('M', '000000')\n",
    "\n",
    "                        timeline.append({'name': name,\n",
    "                                         'category': category,\n",
    "                                         'date': timeline_dateB,\n",
    "                                         'subscribers': timeline_subsB,\n",
    "                                         'views': timeline_viewsA,\n",
    "                                         'min_earnings': timeline_min_earningsB,\n",
    "                                         'max_earnings': timeline_max_earningsB})\n",
    "\n",
    "            except:\n",
    "                browser.back()\n",
    "\n",
    "    except Exception as e:\n",
    "        browser.back()\n"
   ]
  },
  {
   "cell_type": "code",
   "execution_count": 14,
   "metadata": {},
   "outputs": [],
   "source": [
    "summary_df = pd.DataFrame(summary)\n",
    "views_df = pd.DataFrame(viewcount)\n",
    "ranking_df = pd.DataFrame(ranking)\n",
    "earnings_df = pd.DataFrame(earnings)\n",
    "timeline_df = pd.DataFrame(timeline)\n",
    "\n",
    "summary_df.to_csv('summary_df.csv')\n",
    "views_df.to_csv('views_df.csv')\n",
    "ranking_df.to_csv('ranking_df.csv')\n",
    "earnings_df.to_csv('earnings_df.csv')\n",
    "timeline_df.to_csv('timeline_df.csv')"
   ]
  },
  {
   "cell_type": "code",
   "execution_count": 15,
   "metadata": {},
   "outputs": [
    {
     "data": {
      "text/plain": [
       "category               1612\n",
       "name                   1612\n",
       "subs_last30d_count     1612\n",
       "views_last30d_count    1612\n",
       "dtype: int64"
      ]
     },
     "execution_count": 15,
     "metadata": {},
     "output_type": "execute_result"
    }
   ],
   "source": [
    "views_df.count()"
   ]
  },
  {
   "cell_type": "code",
   "execution_count": 16,
   "metadata": {},
   "outputs": [
    {
     "data": {
      "text/plain": [
       "category            1612\n",
       "grade               1612\n",
       "name                1612\n",
       "socialblade_rank    1612\n",
       "subscriber_rank     1612\n",
       "view_rank           1612\n",
       "dtype: int64"
      ]
     },
     "execution_count": 16,
     "metadata": {},
     "output_type": "execute_result"
    }
   ],
   "source": [
    "ranking_df.count()"
   ]
  },
  {
   "cell_type": "code",
   "execution_count": 17,
   "metadata": {},
   "outputs": [
    {
     "data": {
      "text/plain": [
       "category                1612\n",
       "max_annual_earnings     1612\n",
       "max_monthly_earnings    1612\n",
       "min_annual_earnings     1612\n",
       "min_monthly_earnings    1612\n",
       "name                    1612\n",
       "dtype: int64"
      ]
     },
     "execution_count": 17,
     "metadata": {},
     "output_type": "execute_result"
    }
   ],
   "source": [
    "earnings_df.count()"
   ]
  },
  {
   "cell_type": "code",
   "execution_count": 18,
   "metadata": {},
   "outputs": [
    {
     "data": {
      "text/plain": [
       "category        22540\n",
       "date            22540\n",
       "max_earnings    22540\n",
       "min_earnings    22540\n",
       "name            22540\n",
       "subscribers     22540\n",
       "views           22540\n",
       "dtype: int64"
      ]
     },
     "execution_count": 18,
     "metadata": {},
     "output_type": "execute_result"
    }
   ],
   "source": [
    "timeline_df.count()"
   ]
  },
  {
   "cell_type": "code",
   "execution_count": 19,
   "metadata": {},
   "outputs": [
    {
     "data": {
      "text/plain": [
       "<pymongo.results.InsertManyResult at 0x22b806cfe88>"
      ]
     },
     "execution_count": 19,
     "metadata": {},
     "output_type": "execute_result"
    }
   ],
   "source": [
    "db = client.youtube_stats\n",
    "summary_stats = db.summary_stats\n",
    "views_stats = db.views_stats\n",
    "ranking_stats = db.ranking_stats\n",
    "earning_stats = db.earning_stats\n",
    "timeline_stats = db.timeline_stats\n",
    "\n",
    "db.summary_stats.drop()\n",
    "db.views_stats.drop()\n",
    "db.ranking_stats.drop()\n",
    "db.earning_stats.drop()\n",
    "db.timeline_stats.drop()\n",
    "\n",
    "summary_stats.insert_many(summary_df.to_dict('records'))\n",
    "views_stats.insert_many(views_df.to_dict('records'))\n",
    "ranking_stats.insert_many(ranking_df.to_dict('records'))\n",
    "earning_stats.insert_many(earnings_df.to_dict('records'))\n",
    "timeline_stats.insert_many(timeline_df.to_dict('records'))"
   ]
  },
  {
   "cell_type": "code",
   "execution_count": null,
   "metadata": {},
   "outputs": [],
   "source": []
  }
 ],
 "metadata": {
  "kernelspec": {
   "display_name": "Python 3",
   "language": "python",
   "name": "python3"
  },
  "language_info": {
   "codemirror_mode": {
    "name": "ipython",
    "version": 3
   },
   "file_extension": ".py",
   "mimetype": "text/x-python",
   "name": "python",
   "nbconvert_exporter": "python",
   "pygments_lexer": "ipython3",
   "version": "3.6.5"
  }
 },
 "nbformat": 4,
 "nbformat_minor": 2
}
